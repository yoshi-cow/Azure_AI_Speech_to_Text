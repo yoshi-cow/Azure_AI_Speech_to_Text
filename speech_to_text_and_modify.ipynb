{
 "cells": [
  {
   "cell_type": "markdown",
   "id": "06ee8342-cd2e-4d68-95a9-04b1dc166509",
   "metadata": {},
   "source": [
    "# 音声会話ファイルの文字起こしと、LLM による会話文章の校正\n",
    "\n",
    "- 文字起こしは、Azure AI Speech Service の speech to text を利用\n",
    "  - python SDK により呼び出し\n",
    "  - speech to text 関数は、transcriber_module.py に記載\n"
   ]
  },
  {
   "cell_type": "code",
   "execution_count": 11,
   "id": "8e3daadc-e054-4e79-9bd5-90469067ae38",
   "metadata": {},
   "outputs": [],
   "source": [
    "import os\n",
    "from transcriber_module import transcribe_audio_file  # 文字起こし関数\n",
    "from llm_text_corrector import correct_text_with_llm  # 文章修正関数"
   ]
  },
  {
   "cell_type": "markdown",
   "id": "1bb0ad60-1c89-44d0-a951-5ec354deee7c",
   "metadata": {},
   "source": [
    "## 1. 文字起こし\n"
   ]
  },
  {
   "cell_type": "code",
   "execution_count": null,
   "id": "f36f0a29-7c10-42eb-8903-fe31251e3a68",
   "metadata": {},
   "outputs": [
    {
     "name": "stdout",
     "output_type": "stream",
     "text": [
      "Starting transcription for: ./audio_file/audio_long.WAV ...\n",
      "Transcription in progress...\n",
      "SESSION STARTED: ef4c483fe981496db460b67d08bad804\n",
      "SESSION STOPPED: ef4c483fe981496db460b67d08bad804\n",
      "Stopping transcription...\n",
      "Transcription stopped.\n",
      "Transcription results saved to: ./text_file/audi_long_to_text_result.txt\n",
      "CPU times: total: 5.53 s\n",
      "Wall time: 10min 16s\n"
     ]
    }
   ],
   "source": [
    "%%time\n",
    "\n",
    "audio_file = \"./audio_file/audio_long.WAV\"  # 音声ファイルのパス\n",
    "output_file = \"./text_file/audi_long_to_text_result.txt\"\n",
    "\n",
    "results = transcribe_audio_file(audio_file, output_file)\n",
    "# resultsにSpeakerごとの文字起こし結果（リスト）が返る\n"
   ]
  },
  {
   "cell_type": "code",
   "execution_count": 3,
   "id": "c71aa583-0434-461c-9287-cd2ffe1a170a",
   "metadata": {},
   "outputs": [
    {
     "name": "stdout",
     "output_type": "stream",
     "text": [
      "-最初の500文字-\n",
      "Speaker Guest-1: ここから本日はよろしくお願いします。よろしくお願いします。まずは、ええ、原田さんですね。はい、2015年から20年までええ日本銀行政策委員会審議委員を務められた名古屋商科大学ビジネススクール教授の原田さんということですね。よろしくお願いします。そして、小黒さんは元財務官僚で、金融、そして公共経済学などが専門の法政大学教授ということですね。はい、よろしくお願いします。ちょっとお2人の立ち位置と確認したいんですけれど、まずは原田さんは。\n",
      "Speaker Guest-1: それで黒田路線を継続すべきっていう考えでよろしいですかその通りですはい。そして大倉さんは財政規制、あ、規律派で、これまあ黒田路線からちょっと転換すべき時期じゃないかというお考えということでよろしいですか微修正をしたほうがいいんじゃないか微修正ということでゆっくりですね、ゆっくりそこはお2人、意見として違うということですねピリピリしてますか？なんか、そんな感じですよ。全然してないです。あ、全然知らない。でも、だから経済というのはこ。うやって学者さんクラスといいます\n",
      "Speaker Guest\n"
     ]
    }
   ],
   "source": [
    "# 文字起こし結果\n",
    "with open(output_file, encoding=\"utf-8\") as f:\n",
    "    ori_text = f.read()\n",
    "\n",
    "print(\"-最初の500文字-\")\n",
    "print(ori_text[:500])"
   ]
  },
  {
   "cell_type": "markdown",
   "id": "73ad7d25-78de-4061-ba88-cd5572d4d1a3",
   "metadata": {},
   "source": [
    "### 文字起こし結果確認\n",
    "\n",
    "- 同じ話し手の文章が 2 つに分けられて別な人の文章に入っているなどの問題あり。\n",
    "- 話者判別がうまくいっていない箇所がみられる。\n",
    "- 漢字の誤変換がみられる。\n",
    "\n",
    "<b>上記問題解消のため、LLM(gpt-o3-mini)に文字起こし文章の校正を依頼する</b>\n"
   ]
  },
  {
   "cell_type": "markdown",
   "id": "8fd69e38-12b2-48f3-a8d3-72c7e1b27f44",
   "metadata": {},
   "source": [
    "## 2. 文章校正\n",
    "\n",
    "- 推論モデル(gpt-o3-mini)を利用\n",
    "- システムプロンプトは、prompt/system_prompt.txt に記載\n"
   ]
  },
  {
   "cell_type": "code",
   "execution_count": 14,
   "id": "58b4458c-d52f-4a8d-a84b-a410991a3d78",
   "metadata": {},
   "outputs": [
    {
     "name": "stdout",
     "output_type": "stream",
     "text": [
      "-call LLM...-\n",
      "\n",
      "-fin.-\n",
      "\n",
      "LLM response written to ./modified_text_file/modified_by_o3mini_4.txt\n",
      "司会：ここから本日はよろしくお願いします。よろしくお願いします。まずは、ええ、原田さんですね。はい、2015年から20年までええ日本銀行政策委員会審議委員を務められた名古屋商科大学ビジネススクール教授の原田さんということですね。よろしくお願いします。そして、小黒さんは元財務官僚で、金融、そして公共経済学などが専門の法政大学教授ということですね。はい、よろしくお願いします。ちょっとお2人の立ち位置と確認したいんですけれど、まずは原田さんは。\n",
      "\n",
      "司会：それで黒田路線を継続すべきっていう考えでよろしいですかその通りですはい。そして大倉さんは財政規制、あ、規律派で、これまあ黒田路線からちょっと転換すべき時期じゃないかというお考えということでよろしいですか微修正をしたほうがいいんじゃないか微修正ということでゆっくりですね、ゆっくりそこはお2人、意見として違うということですねピリピリしてますか？なんか、そんな感じですよ。全然してないです。あ、全然知らない。でも、だから経済というのはこ。うやって学者さんクラスといいます\n",
      "\n",
      "司会：これずっと勉強されてる。2人でもやっぱり意見が違うというのが経済というこ\n",
      "CPU times: total: 250 ms\n",
      "Wall time: 1min 9s\n"
     ]
    }
   ],
   "source": [
    "%%time\n",
    "\n",
    "# 各種ファイルパスを指定\n",
    "\n",
    "# システムプロンプトのファイルパス\n",
    "# system_prompt_file = \"./prompt/system_prompt_1.txt\"\n",
    "# system_prompt_file = \"./prompt/system_prompt_2.txt\"\n",
    "# system_prompt_file = \"./prompt/system_prompt_3.txt\"\n",
    "system_prompt_file = \"./prompt/system_prompt_4.txt\"\n",
    "\n",
    "# 文字起こし結果のファイルパス\n",
    "user_message_file = \"./text_file/audi_long_to_text_result.txt\"\n",
    "\n",
    "# 出力ファイルのパス\n",
    "# output_file2 = \"./modified_text_file/modified_by_o3mini_1.txt\"\n",
    "# output_file2 = \"./modified_text_file/modified_by_o3mini_2.txt\"\n",
    "# output_file2 = \"./modified_text_file/modified_by_o3mini_3.txt\"\n",
    "output_file2 = \"./modified_text_file/modified_by_o3mini_4.txt\"\n",
    "\n",
    "\n",
    "# LLM呼び出し\n",
    "result = correct_text_with_llm(\n",
    "    system_prompt_file=system_prompt_file,\n",
    "    user_message_file=user_message_file,\n",
    "    output_file=output_file2,\n",
    ")\n"
   ]
  },
  {
   "cell_type": "markdown",
   "id": "a81c1016-2516-40f8-b1b9-17572716e72d",
   "metadata": {},
   "source": [
    "#### 結果\n",
    "\n",
    "- 話者判別の修正が大分ましになっている。\n",
    "- 一人の会話が二人に分かれている現象も大分解消している。\n",
    "\n",
    "##### 注意点：\n",
    "\n",
    "- gpt-4o の場合、余計な要約や勝手な校正が入るため、gpt-o3-mini に変更\n",
    "- o3-mini では、期待通りの動きをしたが、一部内容の省略がみられるので、プロンプトの修正や gpt4.1 などとも比較必要\n",
    "- 同じシステムプロンプトを用いても結果が異なる場合が出てくるので、temperature などの調整も必要\n",
    "- 4 回目の修正版システムプロンプトの結果が 3 回目より悪化したため、細かすぎる指示による不具合が出てきている。丁度いいプロンプト指示文の探索が必要\n"
   ]
  },
  {
   "cell_type": "code",
   "execution_count": null,
   "id": "0e9d547a-2ec7-4b15-a4bb-b9a7e4ef2262",
   "metadata": {},
   "outputs": [],
   "source": []
  }
 ],
 "metadata": {
  "kernelspec": {
   "display_name": "study_azure_single_agent",
   "language": "python",
   "name": "study_azure_single_agent"
  },
  "language_info": {
   "codemirror_mode": {
    "name": "ipython",
    "version": 3
   },
   "file_extension": ".py",
   "mimetype": "text/x-python",
   "name": "python",
   "nbconvert_exporter": "python",
   "pygments_lexer": "ipython3",
   "version": "3.11.11"
  }
 },
 "nbformat": 4,
 "nbformat_minor": 5
}
